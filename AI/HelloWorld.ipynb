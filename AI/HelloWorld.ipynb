{
 "cells": [
  {
   "cell_type": "code",
   "execution_count": 55,
   "id": "e7af97c5",
   "metadata": {},
   "outputs": [],
   "source": [
    "# import pandas as pd\n",
    "# from sklearn.tree import DecisionTreeClassifier\n",
    "# from sklearn.model_selection import train_test_split\n",
    "# from sklearn.metrics import accuracy_score\n",
    "\n",
    "# music_data = pd.read_csv('MusicDataset.csv')\n",
    "# x = music_data.drop(columns=['genre'])\n",
    "# y = music_data['genre']\n",
    "# x_train, x_test, y_train, y_test = train_test_split(x , y , test_size = 0.2)\n",
    "\n",
    "# model = DecisionTreeClassifier()\n",
    "# model.fit(x_train ,y_train)\n",
    "# predictions = model.predict(x_test)\n",
    "\n",
    "# score = accuracy_score(y_test, predictions)\n",
    "# score"
   ]
  },
  {
   "cell_type": "code",
   "execution_count": 62,
   "id": "4a456637",
   "metadata": {},
   "outputs": [],
   "source": [
    "# import pandas as pd\n",
    "# from sklearn.tree import DecisionTreeClassifier\n",
    "# import joblib\n",
    "\n",
    "## music_data = pd.read_csv('MusicDataset.csv')\n",
    "## x = music_data.drop(columns=['genre'])\n",
    "## y = music_data['genre']\n",
    "\n",
    "## model = DecisionTreeClassifier()\n",
    "## model.fit(x,y)\n",
    "\n",
    "## joblib.dump(model, 'music-recommender.joblib')\n",
    "# model = joblib.load('music-recommender.joblib')\n",
    "# predictions = model.predict( [ [21,1 ] ] )\n",
    "# predictions"
   ]
  },
  {
   "cell_type": "code",
   "execution_count": 63,
   "id": "a0b664ca",
   "metadata": {},
   "outputs": [],
   "source": [
    "import pandas as pd\n",
    "from sklearn.tree import DecisionTreeClassifier\n",
    "from sklearn import tree \n",
    "\n",
    "music_data = pd.read_csv('MusicDataset.csv')\n",
    "x = music_data.drop(columns=['genre'])\n",
    "y = music_data['genre']\n",
    "\n",
    "model = DecisionTreeClassifier()\n",
    "model.fit(x,y)\n",
    "\n",
    "tree.export_graphviz(model, out_file ='music-recommender.dot' , feature_names = ['age','gender'] ,\n",
    "                     class_names = sorted(y.unique()), label = 'all' , rounded = True, filled = True)"
   ]
  },
  {
   "cell_type": "code",
   "execution_count": null,
   "id": "69715d93",
   "metadata": {},
   "outputs": [],
   "source": []
  }
 ],
 "metadata": {
  "kernelspec": {
   "display_name": "Python 3 (ipykernel)",
   "language": "python",
   "name": "python3"
  },
  "language_info": {
   "codemirror_mode": {
    "name": "ipython",
    "version": 3
   },
   "file_extension": ".py",
   "mimetype": "text/x-python",
   "name": "python",
   "nbconvert_exporter": "python",
   "pygments_lexer": "ipython3",
   "version": "3.9.12"
  }
 },
 "nbformat": 4,
 "nbformat_minor": 5
}
